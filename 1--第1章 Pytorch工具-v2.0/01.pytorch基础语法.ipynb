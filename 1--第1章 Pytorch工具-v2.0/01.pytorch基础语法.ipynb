﻿{
 "cells": [
  {
   "cell_type": "code",
   "execution_count": 3,
   "outputs": [],
   "source": [
    "import torch"
   ],
   "metadata": {
    "collapsed": false,
    "ExecuteTime": {
     "end_time": "2023-12-11T02:19:41.715668Z",
     "start_time": "2023-12-11T02:19:41.710713Z"
    }
   },
   "id": "5f0ce282b0467db6"
  },
  {
   "cell_type": "markdown",
   "source": [
    "### 创建一个没有初始化的矩阵"
   ],
   "metadata": {
    "collapsed": false
   },
   "id": "15b491693cd205eb"
  },
  {
   "cell_type": "code",
   "execution_count": 4,
   "outputs": [
    {
     "data": {
      "text/plain": "tensor([[0., 0., 0.],\n        [0., 0., 0.],\n        [0., 0., 0.],\n        [0., 0., 0.],\n        [0., 0., 0.]], dtype=torch.float64)"
     },
     "execution_count": 4,
     "metadata": {},
     "output_type": "execute_result"
    }
   ],
   "source": [
    "torch.empty(size=(5,3),dtype=torch.float64)"
   ],
   "metadata": {
    "collapsed": false,
    "ExecuteTime": {
     "end_time": "2023-12-11T02:19:41.727747Z",
     "start_time": "2023-12-11T02:19:41.718159Z"
    }
   },
   "id": "d8e4249e37763553"
  },
  {
   "cell_type": "markdown",
   "source": [
    "### 创建一个有初始化的随机矩阵"
   ],
   "metadata": {
    "collapsed": false
   },
   "id": "f4e7a7a88690033c"
  },
  {
   "cell_type": "code",
   "execution_count": 5,
   "outputs": [
    {
     "data": {
      "text/plain": "tensor([[0.1604, 0.2454, 0.5785],\n        [0.3326, 0.0375, 0.4524],\n        [0.5375, 0.8332, 0.2632],\n        [0.4420, 0.8902, 0.4663],\n        [0.5285, 0.2028, 0.1340]], dtype=torch.float64)"
     },
     "execution_count": 5,
     "metadata": {},
     "output_type": "execute_result"
    }
   ],
   "source": [
    "torch.rand(size=(5,3),dtype=torch.float64)"
   ],
   "metadata": {
    "collapsed": false,
    "ExecuteTime": {
     "end_time": "2023-12-11T02:20:18.598313Z",
     "start_time": "2023-12-11T02:20:18.594879Z"
    }
   },
   "id": "7df6eda7541cc416"
  },
  {
   "cell_type": "markdown",
   "source": [
    "### 创建一个正态分布的随机矩阵"
   ],
   "metadata": {
    "collapsed": false
   },
   "id": "8a24b057e65b8fe9"
  },
  {
   "cell_type": "code",
   "execution_count": 6,
   "outputs": [
    {
     "data": {
      "text/plain": "tensor([[ 0.4457,  0.3758, -1.3036],\n        [ 1.1101,  1.2955,  1.5861],\n        [ 0.7272,  0.6310,  0.0636],\n        [ 0.3406, -1.0217,  0.9304],\n        [ 0.7685,  0.2350,  1.2536]], dtype=torch.float64)"
     },
     "execution_count": 6,
     "metadata": {},
     "output_type": "execute_result"
    }
   ],
   "source": [
    "torch.randn(size=(5,3),dtype=torch.float64)"
   ],
   "metadata": {
    "collapsed": false,
    "ExecuteTime": {
     "end_time": "2023-12-11T02:21:39.326067Z",
     "start_time": "2023-12-11T02:21:39.322873Z"
    }
   },
   "id": "49eb83bd00c2ee95"
  },
  {
   "cell_type": "markdown",
   "source": [
    "### 创建一个全零矩阵并可指定数据元素的类型为long"
   ],
   "metadata": {
    "collapsed": false
   },
   "id": "9954b36aec99725b"
  },
  {
   "cell_type": "code",
   "execution_count": 7,
   "outputs": [
    {
     "data": {
      "text/plain": "tensor([[0, 0, 0],\n        [0, 0, 0],\n        [0, 0, 0],\n        [0, 0, 0],\n        [0, 0, 0]])"
     },
     "execution_count": 7,
     "metadata": {},
     "output_type": "execute_result"
    }
   ],
   "source": [
    "torch.zeros(size=(5,3), dtype=torch.long)"
   ],
   "metadata": {
    "collapsed": false,
    "ExecuteTime": {
     "end_time": "2023-12-11T02:22:31.782385Z",
     "start_time": "2023-12-11T02:22:31.779712Z"
    }
   },
   "id": "fe6866bc57a2bd50"
  },
  {
   "cell_type": "markdown",
   "source": [
    "### 直接通过数据创建张量"
   ],
   "metadata": {
    "collapsed": false
   },
   "id": "6e9668d2b939667"
  },
  {
   "cell_type": "code",
   "execution_count": 8,
   "outputs": [
    {
     "data": {
      "text/plain": "tensor([[1., 2., 3.],\n        [4., 5., 6.]], dtype=torch.float64)"
     },
     "execution_count": 8,
     "metadata": {},
     "output_type": "execute_result"
    }
   ],
   "source": [
    "torch.tensor(data=[[1,2,3],[4,5,6]],dtype=torch.float64)"
   ],
   "metadata": {
    "collapsed": false,
    "ExecuteTime": {
     "end_time": "2023-12-11T02:34:51.751724Z",
     "start_time": "2023-12-11T02:34:51.735335Z"
    }
   },
   "id": "4196cbd382e1333"
  },
  {
   "cell_type": "markdown",
   "source": [
    "### 通过已有的张量创建一个新的张量"
   ],
   "metadata": {
    "collapsed": false
   },
   "id": "442decd6d7d1200f"
  },
  {
   "cell_type": "code",
   "execution_count": 9,
   "outputs": [
    {
     "data": {
      "text/plain": "(tensor([[1., 1., 1.],\n         [1., 1., 1.],\n         [1., 1., 1.],\n         [1., 1., 1.],\n         [1., 1., 1.]]),\n tensor([[0., 0., 0.],\n         [0., 0., 0.],\n         [0., 0., 0.],\n         [0., 0., 0.],\n         [0., 0., 0.]]))"
     },
     "execution_count": 9,
     "metadata": {},
     "output_type": "execute_result"
    }
   ],
   "source": [
    "x = torch.ones(5,3)\n",
    "# 通过zeros_like创建了一个和x一样的尺寸 但是值为0的张量\n",
    "y = torch.zeros_like(x)\n",
    "x , y"
   ],
   "metadata": {
    "collapsed": false,
    "ExecuteTime": {
     "end_time": "2023-12-11T02:43:06.796734Z",
     "start_time": "2023-12-11T02:43:06.791395Z"
    }
   },
   "id": "cc1147cc58b28ef1"
  },
  {
   "cell_type": "markdown",
   "source": [
    "### 加法操作"
   ],
   "metadata": {
    "collapsed": false
   },
   "id": "2f9f4d8d48c93429"
  },
  {
   "cell_type": "code",
   "execution_count": 16,
   "outputs": [
    {
     "name": "stdout",
     "output_type": "stream",
     "text": [
      "tensor([[6., 6., 6.],\n",
      "        [6., 6., 6.],\n",
      "        [6., 6., 6.],\n",
      "        [6., 6., 6.],\n",
      "        [6., 6., 6.]])\n"
     ]
    }
   ],
   "source": [
    "x = 5\n",
    "y = torch.ones(5, 3)\n",
    "print(x + y)"
   ],
   "metadata": {
    "collapsed": false,
    "ExecuteTime": {
     "end_time": "2023-12-11T02:45:52.552018Z",
     "start_time": "2023-12-11T02:45:52.550041Z"
    }
   },
   "id": "7a36ed47a805615a"
  },
  {
   "cell_type": "markdown",
   "source": [
    "### 用类似于Numpy的方式对张量进行切片操作"
   ],
   "metadata": {
    "collapsed": false
   },
   "id": "40748aa462c65c27"
  },
  {
   "cell_type": "code",
   "execution_count": 20,
   "outputs": [
    {
     "data": {
      "text/plain": "tensor([[-1.6738,  1.8256,  0.5102],\n        [ 0.7322,  0.4283, -0.6250],\n        [-1.8073, -0.3848, -0.8247],\n        [ 0.7150,  1.6864,  1.3664],\n        [ 0.3434, -0.1664,  2.0397]])"
     },
     "execution_count": 20,
     "metadata": {},
     "output_type": "execute_result"
    }
   ],
   "source": [
    "x = torch.randn(5,3)\n",
    "x"
   ],
   "metadata": {
    "collapsed": false,
    "ExecuteTime": {
     "end_time": "2023-12-11T02:56:40.048930Z",
     "start_time": "2023-12-11T02:56:40.044333Z"
    }
   },
   "id": "f9bc58adcfce8a3"
  },
  {
   "cell_type": "code",
   "execution_count": 25,
   "outputs": [
    {
     "data": {
      "text/plain": "tensor([ 0.7322,  0.4283, -0.6250])"
     },
     "execution_count": 25,
     "metadata": {},
     "output_type": "execute_result"
    }
   ],
   "source": [
    "x[1,:] # 取第二行"
   ],
   "metadata": {
    "collapsed": false,
    "ExecuteTime": {
     "end_time": "2023-12-11T02:57:47.812522Z",
     "start_time": "2023-12-11T02:57:47.807089Z"
    }
   },
   "id": "e19ecc287a9bca63"
  },
  {
   "cell_type": "code",
   "execution_count": 26,
   "outputs": [
    {
     "data": {
      "text/plain": "tensor([ 1.8256,  0.4283, -0.3848,  1.6864, -0.1664])"
     },
     "execution_count": 26,
     "metadata": {},
     "output_type": "execute_result"
    }
   ],
   "source": [
    "x[:,1] # 取第二列"
   ],
   "metadata": {
    "collapsed": false,
    "ExecuteTime": {
     "end_time": "2023-12-11T02:57:49.811217Z",
     "start_time": "2023-12-11T02:57:49.807224Z"
    }
   },
   "id": "5dd29bb61b8934a5"
  },
  {
   "cell_type": "markdown",
   "source": [
    "### 改变张量的形状: torch.view()"
   ],
   "metadata": {
    "collapsed": false
   },
   "id": "a9abea0199ec4669"
  },
  {
   "cell_type": "code",
   "execution_count": 34,
   "outputs": [
    {
     "data": {
      "text/plain": "(tensor([[1., 1., 1.],\n         [1., 1., 1.],\n         [1., 1., 1.],\n         [1., 1., 1.],\n         [1., 1., 1.]]),\n tensor([[1., 1., 1., 1., 1.],\n         [1., 1., 1., 1., 1.],\n         [1., 1., 1., 1., 1.]]))"
     },
     "execution_count": 34,
     "metadata": {},
     "output_type": "execute_result"
    }
   ],
   "source": [
    "x = torch.ones(5,3)\n",
    "y = x.view(3,5)\n",
    "x , y"
   ],
   "metadata": {
    "collapsed": false,
    "ExecuteTime": {
     "end_time": "2023-12-11T03:00:22.634440Z",
     "start_time": "2023-12-11T03:00:22.627699Z"
    }
   },
   "id": "de32277f44bb3a1b"
  },
  {
   "cell_type": "markdown",
   "source": [
    "### 将Torch Tensor转换为Numpy array"
   ],
   "metadata": {
    "collapsed": false
   },
   "id": "66129e75f16f2b61"
  },
  {
   "cell_type": "code",
   "execution_count": 35,
   "outputs": [
    {
     "data": {
      "text/plain": "tensor([[1., 1., 1.],\n        [1., 1., 1.]])"
     },
     "execution_count": 35,
     "metadata": {},
     "output_type": "execute_result"
    }
   ],
   "source": [
    "x = torch.ones(2,3)\n",
    "x"
   ],
   "metadata": {
    "collapsed": false,
    "ExecuteTime": {
     "end_time": "2023-12-11T03:01:41.221790Z",
     "start_time": "2023-12-11T03:01:41.216915Z"
    }
   },
   "id": "93be30e20452a748"
  },
  {
   "cell_type": "code",
   "execution_count": 39,
   "outputs": [
    {
     "data": {
      "text/plain": "array([[1., 1., 1.],\n       [1., 1., 1.]], dtype=float32)"
     },
     "execution_count": 39,
     "metadata": {},
     "output_type": "execute_result"
    }
   ],
   "source": [
    "y = x.numpy()\n",
    "y"
   ],
   "metadata": {
    "collapsed": false,
    "ExecuteTime": {
     "end_time": "2023-12-11T03:02:09.465033Z",
     "start_time": "2023-12-11T03:02:09.463233Z"
    }
   },
   "id": "f7869fbed2b2903c"
  },
  {
   "cell_type": "markdown",
   "source": [
    "### 将numpy转换成tensor"
   ],
   "metadata": {
    "collapsed": false
   },
   "id": "254730b6566b02ca"
  },
  {
   "cell_type": "code",
   "execution_count": 41,
   "outputs": [
    {
     "data": {
      "text/plain": "array([[1., 1., 1.],\n       [1., 1., 1.]])"
     },
     "execution_count": 41,
     "metadata": {},
     "output_type": "execute_result"
    }
   ],
   "source": [
    "import numpy as np\n",
    "\n",
    "x = np.ones([2,3])\n",
    "x"
   ],
   "metadata": {
    "collapsed": false,
    "ExecuteTime": {
     "end_time": "2023-12-11T03:03:13.423396Z",
     "start_time": "2023-12-11T03:03:13.418568Z"
    }
   },
   "id": "6e549ee15043cb58"
  },
  {
   "cell_type": "code",
   "execution_count": 43,
   "outputs": [
    {
     "data": {
      "text/plain": "tensor([[1., 1., 1.],\n        [1., 1., 1.]], dtype=torch.float64)"
     },
     "execution_count": 43,
     "metadata": {},
     "output_type": "execute_result"
    }
   ],
   "source": [
    "y = torch.tensor(x)\n",
    "y"
   ],
   "metadata": {
    "collapsed": false,
    "ExecuteTime": {
     "end_time": "2023-12-11T03:03:34.616990Z",
     "start_time": "2023-12-11T03:03:34.613204Z"
    }
   },
   "id": "4f1e1191f30ec6a6"
  },
  {
   "cell_type": "code",
   "execution_count": 48,
   "outputs": [
    {
     "data": {
      "text/plain": "True"
     },
     "execution_count": 48,
     "metadata": {},
     "output_type": "execute_result"
    }
   ],
   "source": [
    "torch.backends.mps.is_available() # 试用m1芯片加速"
   ],
   "metadata": {
    "collapsed": false,
    "ExecuteTime": {
     "end_time": "2023-12-11T03:05:28.619129Z",
     "start_time": "2023-12-11T03:05:28.616893Z"
    }
   },
   "id": "423378e2c586d610"
  },
  {
   "cell_type": "markdown",
   "source": [
    "### pytorch自动求导功能演示"
   ],
   "metadata": {
    "collapsed": false
   },
   "id": "61d43a5a68a63e4"
  },
  {
   "cell_type": "code",
   "execution_count": 58,
   "outputs": [
    {
     "name": "stdout",
     "output_type": "stream",
     "text": [
      "tensor([[1., 1., 1.],\n",
      "        [1., 1., 1.],\n",
      "        [1., 1., 1.]])\n",
      "tensor([[1., 1.],\n",
      "        [1., 1.]], requires_grad=True)\n"
     ]
    }
   ],
   "source": [
    "x1 = torch.ones(3, 3)\n",
    "print(x1)\n",
    "\n",
    "x2 = torch.ones(2, 2, requires_grad=True)\n",
    "print(x2)"
   ],
   "metadata": {
    "collapsed": false,
    "ExecuteTime": {
     "end_time": "2023-12-11T03:15:01.724433Z",
     "start_time": "2023-12-11T03:15:01.721525Z"
    }
   },
   "id": "4196c945b3b43538"
  },
  {
   "cell_type": "code",
   "execution_count": 59,
   "outputs": [
    {
     "name": "stdout",
     "output_type": "stream",
     "text": [
      "tensor([[3., 3.],\n",
      "        [3., 3.]], grad_fn=<AddBackward0>)\n"
     ]
    }
   ],
   "source": [
    "y = x2 + 2 # 对上面开启了自动计算梯度的张量进行一个加法运算\n",
    "print(y)"
   ],
   "metadata": {
    "collapsed": false,
    "ExecuteTime": {
     "end_time": "2023-12-11T03:15:03.582623Z",
     "start_time": "2023-12-11T03:15:03.578251Z"
    }
   },
   "id": "6fafbc72e37e196d"
  },
  {
   "cell_type": "code",
   "execution_count": 60,
   "outputs": [
    {
     "name": "stdout",
     "output_type": "stream",
     "text": [
      "None\n",
      "<AddBackward0 object at 0x1349ca1f0>\n"
     ]
    }
   ],
   "source": [
    "# 打印Tensor的grad_fn属性\n",
    "print(x2.grad_fn)\n",
    "print(y.grad_fn)"
   ],
   "metadata": {
    "collapsed": false,
    "ExecuteTime": {
     "end_time": "2023-12-11T03:15:05.895623Z",
     "start_time": "2023-12-11T03:15:05.891070Z"
    }
   },
   "id": "ea86f55440ee8520"
  },
  {
   "cell_type": "code",
   "execution_count": 62,
   "outputs": [
    {
     "name": "stdout",
     "output_type": "stream",
     "text": [
      "tensor([[27., 27.],\n",
      "        [27., 27.]], grad_fn=<MulBackward0>) tensor(27., grad_fn=<MeanBackward0>)\n",
      "<MeanBackward0 object at 0x130ff7a90>\n"
     ]
    }
   ],
   "source": [
    "z = y * y * 3\n",
    "out = z.mean()\n",
    "print(z, out) # 打印里面的记录的梯度函数"
   ],
   "metadata": {
    "collapsed": false,
    "ExecuteTime": {
     "end_time": "2023-12-11T03:43:51.718468Z",
     "start_time": "2023-12-11T03:43:51.715081Z"
    }
   },
   "id": "6179cd3fc70faca"
  },
  {
   "cell_type": "code",
   "execution_count": 63,
   "outputs": [
    {
     "name": "stdout",
     "output_type": "stream",
     "text": [
      "False\n",
      "True\n",
      "<SumBackward0 object at 0x130ff7a90>\n"
     ]
    }
   ],
   "source": [
    "a = torch.randn(2, 2)\n",
    "a = ((a * 3) / (a - 1))\n",
    "print(a.requires_grad)\n",
    "a.requires_grad_(True)\n",
    "print(a.requires_grad)\n",
    "b = (a * a).sum()\n",
    "print(b.grad_fn)"
   ],
   "metadata": {
    "collapsed": false,
    "ExecuteTime": {
     "end_time": "2023-12-11T03:48:36.354820Z",
     "start_time": "2023-12-11T03:48:36.339227Z"
    }
   },
   "id": "e4391e6b62189578"
  },
  {
   "cell_type": "markdown",
   "source": [
    "### 计算梯度"
   ],
   "metadata": {
    "collapsed": false
   },
   "id": "87ccf3cd7378f643"
  },
  {
   "cell_type": "code",
   "execution_count": 64,
   "outputs": [
    {
     "name": "stdout",
     "output_type": "stream",
     "text": [
      "None\n",
      "tensor([[4.5000, 4.5000],\n",
      "        [4.5000, 4.5000]])\n"
     ]
    }
   ],
   "source": [
    "print(x2.grad) # 没进行方向传播\n",
    "out.backward()\n",
    "print(x2.grad) # 已经完成了方向传播"
   ],
   "metadata": {
    "collapsed": false,
    "ExecuteTime": {
     "end_time": "2023-12-11T03:49:29.156357Z",
     "start_time": "2023-12-11T03:49:29.147216Z"
    }
   },
   "id": "bf678129d79cfa31"
  }
 ],
 "metadata": {
  "kernelspec": {
   "display_name": "Python 3",
   "language": "python",
   "name": "python3"
  },
  "language_info": {
   "codemirror_mode": {
    "name": "ipython",
    "version": 2
   },
   "file_extension": ".py",
   "mimetype": "text/x-python",
   "name": "python",
   "nbconvert_exporter": "python",
   "pygments_lexer": "ipython2",
   "version": "2.7.6"
  }
 },
 "nbformat": 4,
 "nbformat_minor": 5
}
